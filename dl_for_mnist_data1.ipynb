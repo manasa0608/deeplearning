{
 "cells": [
  {
   "cell_type": "code",
   "execution_count": 2,
   "id": "c790cf6e",
   "metadata": {},
   "outputs": [],
   "source": [
    "import tensorflow as tf\n",
    "import tensorflow.keras as keras"
   ]
  },
  {
   "cell_type": "code",
   "execution_count": 4,
   "id": "9d611b1d",
   "metadata": {},
   "outputs": [
    {
     "name": "stdout",
     "output_type": "stream",
     "text": [
      "Downloading data from https://storage.googleapis.com/tensorflow/tf-keras-datasets/mnist.npz\n",
      "11490434/11490434 [==============================] - 2s 0us/step\n"
     ]
    }
   ],
   "source": [
    "(x_train, y_train), (x_test, y_test) = keras.datasets.mnist.load_data()\n",
    "x_train = x_train / 255.0\n",
    "x_test = x_test / 255.0"
   ]
  },
  {
   "cell_type": "code",
   "execution_count": 6,
   "id": "09583619",
   "metadata": {},
   "outputs": [],
   "source": [
    "model = keras.Sequential([\n",
    "keras.layers.Flatten(input_shape=(28, 28)),\n",
    "keras.layers.Dense(128, activation= 'relu'),\n",
    "keras.layers.Dense(10, activation='softmax')])"
   ]
  },
  {
   "cell_type": "code",
   "execution_count": 7,
   "id": "1bb5a986",
   "metadata": {},
   "outputs": [
    {
     "name": "stderr",
     "output_type": "stream",
     "text": [
      "WARNING:absl:At this time, the v2.11+ optimizer `tf.keras.optimizers.SGD` runs slowly on M1/M2 Macs, please use the legacy Keras optimizer instead, located at `tf.keras.optimizers.legacy.SGD`.\n",
      "WARNING:absl:`lr` is deprecated in Keras optimizer, please use `learning_rate` or use the legacy optimizer, e.g.,tf.keras.optimizers.legacy.SGD.\n",
      "WARNING:absl:There is a known slowdown when using v2.11+ Keras optimizers on M1/M2 Macs. Falling back to the legacy Keras optimizer, i.e., `tf.keras.optimizers.legacy.SGD`.\n"
     ]
    }
   ],
   "source": [
    "opt = keras.optimizers.SGD(lr=0.1)\n",
    "model.compile(optimizer=opt,\n",
    "loss='sparse_categorical_crossentropy', metrics=['accuracy'])"
   ]
  },
  {
   "cell_type": "code",
   "execution_count": 8,
   "id": "5699f678",
   "metadata": {},
   "outputs": [
    {
     "name": "stdout",
     "output_type": "stream",
     "text": [
      "Epoch 1/30\n",
      "1875/1875 [==============================] - 1s 642us/step - loss: 0.6338 - accuracy: 0.8411 - val_loss: 0.3518 - val_accuracy: 0.9045\n",
      "Epoch 2/30\n",
      "1875/1875 [==============================] - 1s 595us/step - loss: 0.3333 - accuracy: 0.9071 - val_loss: 0.2896 - val_accuracy: 0.9189\n",
      "Epoch 3/30\n",
      "1875/1875 [==============================] - 1s 649us/step - loss: 0.2857 - accuracy: 0.9199 - val_loss: 0.2567 - val_accuracy: 0.9288\n",
      "Epoch 4/30\n",
      "1875/1875 [==============================] - 1s 678us/step - loss: 0.2560 - accuracy: 0.9287 - val_loss: 0.2366 - val_accuracy: 0.9310\n",
      "Epoch 5/30\n",
      "1875/1875 [==============================] - 1s 663us/step - loss: 0.2335 - accuracy: 0.9352 - val_loss: 0.2172 - val_accuracy: 0.9389\n",
      "Epoch 6/30\n",
      "1875/1875 [==============================] - 1s 727us/step - loss: 0.2152 - accuracy: 0.9397 - val_loss: 0.2027 - val_accuracy: 0.9417\n",
      "Epoch 7/30\n",
      "1875/1875 [==============================] - 1s 640us/step - loss: 0.2001 - accuracy: 0.9443 - val_loss: 0.1901 - val_accuracy: 0.9440\n",
      "Epoch 8/30\n",
      "1875/1875 [==============================] - 1s 602us/step - loss: 0.1873 - accuracy: 0.9481 - val_loss: 0.1798 - val_accuracy: 0.9477\n",
      "Epoch 9/30\n",
      "1875/1875 [==============================] - 1s 584us/step - loss: 0.1757 - accuracy: 0.9512 - val_loss: 0.1709 - val_accuracy: 0.9505\n",
      "Epoch 10/30\n",
      "1875/1875 [==============================] - 1s 577us/step - loss: 0.1658 - accuracy: 0.9542 - val_loss: 0.1617 - val_accuracy: 0.9527\n",
      "Epoch 11/30\n",
      "1875/1875 [==============================] - 1s 586us/step - loss: 0.1568 - accuracy: 0.9563 - val_loss: 0.1535 - val_accuracy: 0.9556\n",
      "Epoch 12/30\n",
      "1875/1875 [==============================] - 1s 581us/step - loss: 0.1488 - accuracy: 0.9590 - val_loss: 0.1473 - val_accuracy: 0.9563\n",
      "Epoch 13/30\n",
      "1875/1875 [==============================] - 1s 580us/step - loss: 0.1419 - accuracy: 0.9612 - val_loss: 0.1416 - val_accuracy: 0.9579\n",
      "Epoch 14/30\n",
      "1875/1875 [==============================] - 1s 579us/step - loss: 0.1355 - accuracy: 0.9625 - val_loss: 0.1367 - val_accuracy: 0.9590\n",
      "Epoch 15/30\n",
      "1875/1875 [==============================] - 1s 586us/step - loss: 0.1294 - accuracy: 0.9645 - val_loss: 0.1316 - val_accuracy: 0.9599\n",
      "Epoch 16/30\n",
      "1875/1875 [==============================] - 1s 589us/step - loss: 0.1238 - accuracy: 0.9657 - val_loss: 0.1275 - val_accuracy: 0.9614\n",
      "Epoch 17/30\n",
      "1875/1875 [==============================] - 1s 617us/step - loss: 0.1189 - accuracy: 0.9675 - val_loss: 0.1244 - val_accuracy: 0.9634\n",
      "Epoch 18/30\n",
      "1875/1875 [==============================] - 1s 658us/step - loss: 0.1144 - accuracy: 0.9685 - val_loss: 0.1213 - val_accuracy: 0.9646\n",
      "Epoch 19/30\n",
      "1875/1875 [==============================] - 1s 736us/step - loss: 0.1101 - accuracy: 0.9695 - val_loss: 0.1168 - val_accuracy: 0.9649\n",
      "Epoch 20/30\n",
      "1875/1875 [==============================] - 1s 747us/step - loss: 0.1060 - accuracy: 0.9709 - val_loss: 0.1144 - val_accuracy: 0.9657\n",
      "Epoch 21/30\n",
      "1875/1875 [==============================] - 1s 773us/step - loss: 0.1024 - accuracy: 0.9716 - val_loss: 0.1106 - val_accuracy: 0.9669\n",
      "Epoch 22/30\n",
      "1875/1875 [==============================] - 1s 669us/step - loss: 0.0988 - accuracy: 0.9727 - val_loss: 0.1084 - val_accuracy: 0.9677\n",
      "Epoch 23/30\n",
      "1875/1875 [==============================] - 1s 752us/step - loss: 0.0954 - accuracy: 0.9738 - val_loss: 0.1057 - val_accuracy: 0.9682\n",
      "Epoch 24/30\n",
      "1875/1875 [==============================] - 1s 724us/step - loss: 0.0924 - accuracy: 0.9744 - val_loss: 0.1028 - val_accuracy: 0.9683\n",
      "Epoch 25/30\n",
      "1875/1875 [==============================] - 1s 608us/step - loss: 0.0896 - accuracy: 0.9755 - val_loss: 0.1011 - val_accuracy: 0.9694\n",
      "Epoch 26/30\n",
      "1875/1875 [==============================] - 1s 600us/step - loss: 0.0868 - accuracy: 0.9760 - val_loss: 0.0995 - val_accuracy: 0.9700\n",
      "Epoch 27/30\n",
      "1875/1875 [==============================] - 1s 645us/step - loss: 0.0843 - accuracy: 0.9769 - val_loss: 0.0982 - val_accuracy: 0.9706\n",
      "Epoch 28/30\n",
      "1875/1875 [==============================] - 1s 645us/step - loss: 0.0819 - accuracy: 0.9779 - val_loss: 0.0958 - val_accuracy: 0.9716\n",
      "Epoch 29/30\n",
      "1875/1875 [==============================] - 1s 586us/step - loss: 0.0793 - accuracy: 0.9781 - val_loss: 0.0958 - val_accuracy: 0.9713\n",
      "Epoch 30/30\n",
      "1875/1875 [==============================] - 1s 580us/step - loss: 0.0772 - accuracy: 0.9789 - val_loss: 0.0931 - val_accuracy: 0.9720\n"
     ]
    }
   ],
   "source": [
    "history = model.fit(x_train, y_train, batch_size=32, epochs=30,\n",
    "validation_data=(x_test, y_test))"
   ]
  },
  {
   "cell_type": "code",
   "execution_count": null,
   "id": "20432bec",
   "metadata": {},
   "outputs": [],
   "source": []
  }
 ],
 "metadata": {
  "kernelspec": {
   "display_name": "Python 3 (ipykernel)",
   "language": "python",
   "name": "python3"
  },
  "language_info": {
   "codemirror_mode": {
    "name": "ipython",
    "version": 3
   },
   "file_extension": ".py",
   "mimetype": "text/x-python",
   "name": "python",
   "nbconvert_exporter": "python",
   "pygments_lexer": "ipython3",
   "version": "3.11.4"
  }
 },
 "nbformat": 4,
 "nbformat_minor": 5
}
