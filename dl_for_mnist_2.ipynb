{
 "cells": [
  {
   "cell_type": "code",
   "execution_count": 4,
   "id": "5f026443",
   "metadata": {},
   "outputs": [],
   "source": [
    "import tensorflow as tf\n",
    "import tensorflow.keras as keras\n",
    "\n",
    "\n",
    "(x_train, y_train), (x_test, y_test) = keras.datasets.mnist.load_data()\n",
    "x_train = x_train / 255.0\n",
    "x_test = x_test / 255.0\n",
    "\n",
    "\n",
    "model = keras.Sequential([\n",
    "keras.layers.Flatten(input_shape=(28, 28)),\n",
    "keras.layers.Dense(128, activation='relu',\n",
    "kernel_regularizer=keras.regularizers.l2(0.0002)),\n",
    "keras.layers.Dropout(0.2),\n",
    "keras.layers.Dense(128, activation='relu',\n",
    "kernel_regularizer=keras.regularizers.l2(0.0002)),\n",
    "keras.layers.Dropout(0.2),\n",
    "keras.layers.Dense(10, activation='softmax')])\n"
   ]
  },
  {
   "cell_type": "code",
   "execution_count": 8,
   "id": "f3799526",
   "metadata": {},
   "outputs": [
    {
     "name": "stderr",
     "output_type": "stream",
     "text": [
      "WARNING:absl:At this time, the v2.11+ optimizer `tf.keras.optimizers.SGD` runs slowly on M1/M2 Macs, please use the legacy Keras optimizer instead, located at `tf.keras.optimizers.legacy.SGD`.\n",
      "WARNING:absl:`lr` is deprecated in Keras optimizer, please use `learning_rate` or use the legacy optimizer, e.g.,tf.keras.optimizers.legacy.SGD.\n",
      "WARNING:absl:There is a known slowdown when using v2.11+ Keras optimizers on M1/M2 Macs. Falling back to the legacy Keras optimizer, i.e., `tf.keras.optimizers.legacy.SGD`.\n"
     ]
    },
    {
     "name": "stdout",
     "output_type": "stream",
     "text": [
      "Epoch 1/30\n",
      "1875/1875 [==============================] - 2s 796us/step - loss: 0.8882 - accuracy: 0.7586 - val_loss: 0.4090 - val_accuracy: 0.9053\n",
      "Epoch 2/30\n",
      "1875/1875 [==============================] - 1s 752us/step - loss: 0.4703 - accuracy: 0.8832 - val_loss: 0.3359 - val_accuracy: 0.9228\n",
      "Epoch 3/30\n",
      "1875/1875 [==============================] - 1s 750us/step - loss: 0.3945 - accuracy: 0.9062 - val_loss: 0.2945 - val_accuracy: 0.9345\n",
      "Epoch 4/30\n",
      "1875/1875 [==============================] - 1s 767us/step - loss: 0.3488 - accuracy: 0.9206 - val_loss: 0.2640 - val_accuracy: 0.9446\n",
      "Epoch 5/30\n",
      "1875/1875 [==============================] - 1s 749us/step - loss: 0.3181 - accuracy: 0.9277 - val_loss: 0.2462 - val_accuracy: 0.9491\n",
      "Epoch 6/30\n",
      "1875/1875 [==============================] - 1s 748us/step - loss: 0.2964 - accuracy: 0.9350 - val_loss: 0.2321 - val_accuracy: 0.9523\n",
      "Epoch 7/30\n",
      "1875/1875 [==============================] - 1s 752us/step - loss: 0.2769 - accuracy: 0.9406 - val_loss: 0.2175 - val_accuracy: 0.9566\n",
      "Epoch 8/30\n",
      "1875/1875 [==============================] - 1s 740us/step - loss: 0.2622 - accuracy: 0.9447 - val_loss: 0.2090 - val_accuracy: 0.9605\n",
      "Epoch 9/30\n",
      "1875/1875 [==============================] - 1s 749us/step - loss: 0.2489 - accuracy: 0.9484 - val_loss: 0.2002 - val_accuracy: 0.9622\n",
      "Epoch 10/30\n",
      "1875/1875 [==============================] - 1s 755us/step - loss: 0.2401 - accuracy: 0.9507 - val_loss: 0.1940 - val_accuracy: 0.9642\n",
      "Epoch 11/30\n",
      "1875/1875 [==============================] - 1s 771us/step - loss: 0.2291 - accuracy: 0.9537 - val_loss: 0.1871 - val_accuracy: 0.9656\n",
      "Epoch 12/30\n",
      "1875/1875 [==============================] - 1s 748us/step - loss: 0.2219 - accuracy: 0.9553 - val_loss: 0.1832 - val_accuracy: 0.9664\n",
      "Epoch 13/30\n",
      "1875/1875 [==============================] - 1s 754us/step - loss: 0.2151 - accuracy: 0.9574 - val_loss: 0.1765 - val_accuracy: 0.9696\n",
      "Epoch 14/30\n",
      "1875/1875 [==============================] - 1s 733us/step - loss: 0.2081 - accuracy: 0.9596 - val_loss: 0.1739 - val_accuracy: 0.9691\n",
      "Epoch 15/30\n",
      "1875/1875 [==============================] - 1s 756us/step - loss: 0.2021 - accuracy: 0.9609 - val_loss: 0.1719 - val_accuracy: 0.9698\n",
      "Epoch 16/30\n",
      "1875/1875 [==============================] - 1s 754us/step - loss: 0.1950 - accuracy: 0.9632 - val_loss: 0.1667 - val_accuracy: 0.9723\n",
      "Epoch 17/30\n",
      "1875/1875 [==============================] - 1s 771us/step - loss: 0.1905 - accuracy: 0.9637 - val_loss: 0.1667 - val_accuracy: 0.9709\n",
      "Epoch 18/30\n",
      "1875/1875 [==============================] - 1s 747us/step - loss: 0.1858 - accuracy: 0.9661 - val_loss: 0.1610 - val_accuracy: 0.9737\n",
      "Epoch 19/30\n",
      "1875/1875 [==============================] - 1s 760us/step - loss: 0.1828 - accuracy: 0.9659 - val_loss: 0.1585 - val_accuracy: 0.9730\n",
      "Epoch 20/30\n",
      "1875/1875 [==============================] - 1s 761us/step - loss: 0.1772 - accuracy: 0.9675 - val_loss: 0.1557 - val_accuracy: 0.9748\n",
      "Epoch 21/30\n",
      "1875/1875 [==============================] - 1s 760us/step - loss: 0.1757 - accuracy: 0.9682 - val_loss: 0.1528 - val_accuracy: 0.9742\n",
      "Epoch 22/30\n",
      "1875/1875 [==============================] - 1s 756us/step - loss: 0.1702 - accuracy: 0.9700 - val_loss: 0.1514 - val_accuracy: 0.9749\n",
      "Epoch 23/30\n",
      "1875/1875 [==============================] - 1s 760us/step - loss: 0.1675 - accuracy: 0.9707 - val_loss: 0.1500 - val_accuracy: 0.9753\n",
      "Epoch 24/30\n",
      "1875/1875 [==============================] - 1s 754us/step - loss: 0.1655 - accuracy: 0.9705 - val_loss: 0.1486 - val_accuracy: 0.9755\n",
      "Epoch 25/30\n",
      "1875/1875 [==============================] - 1s 765us/step - loss: 0.1609 - accuracy: 0.9722 - val_loss: 0.1451 - val_accuracy: 0.9764\n",
      "Epoch 26/30\n",
      "1875/1875 [==============================] - 1s 767us/step - loss: 0.1579 - accuracy: 0.9727 - val_loss: 0.1455 - val_accuracy: 0.9763\n",
      "Epoch 27/30\n",
      "1875/1875 [==============================] - 1s 753us/step - loss: 0.1548 - accuracy: 0.9736 - val_loss: 0.1441 - val_accuracy: 0.9765\n",
      "Epoch 28/30\n",
      "1875/1875 [==============================] - 1s 768us/step - loss: 0.1522 - accuracy: 0.9743 - val_loss: 0.1421 - val_accuracy: 0.9761\n",
      "Epoch 29/30\n",
      "1875/1875 [==============================] - 1s 792us/step - loss: 0.1501 - accuracy: 0.9740 - val_loss: 0.1422 - val_accuracy: 0.9763\n",
      "Epoch 30/30\n",
      "1875/1875 [==============================] - 1s 788us/step - loss: 0.1474 - accuracy: 0.9752 - val_loss: 0.1386 - val_accuracy: 0.9773\n"
     ]
    }
   ],
   "source": [
    "opt = keras.optimizers.SGD(lr=0.1)\n",
    "model.compile(optimizer=opt,\n",
    "loss='sparse_categorical_crossentropy', metrics=['accuracy'])\n",
    "history = model.fit(x_train, y_train, batch_size=32, epochs=30,\n",
    "validation_data=(x_test, y_test))"
   ]
  },
  {
   "cell_type": "code",
   "execution_count": null,
   "id": "08877528",
   "metadata": {},
   "outputs": [],
   "source": []
  },
  {
   "cell_type": "code",
   "execution_count": null,
   "id": "d53d418d",
   "metadata": {},
   "outputs": [],
   "source": []
  }
 ],
 "metadata": {
  "kernelspec": {
   "display_name": "Python 3 (ipykernel)",
   "language": "python",
   "name": "python3"
  },
  "language_info": {
   "codemirror_mode": {
    "name": "ipython",
    "version": 3
   },
   "file_extension": ".py",
   "mimetype": "text/x-python",
   "name": "python",
   "nbconvert_exporter": "python",
   "pygments_lexer": "ipython3",
   "version": "3.11.4"
  }
 },
 "nbformat": 4,
 "nbformat_minor": 5
}
